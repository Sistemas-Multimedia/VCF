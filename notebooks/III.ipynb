{
 "cells": [
  {
   "cell_type": "markdown",
   "id": "fd58efe9-d816-4559-bdd1-f76fdcfc100d",
   "metadata": {},
   "source": [
    "## Video Intra-coding"
   ]
  },
  {
   "cell_type": "code",
   "execution_count": null,
   "id": "1e42347e-49b9-4b47-9637-51da1c5fca58",
   "metadata": {},
   "outputs": [],
   "source": [
    "from IPython.display import Video"
   ]
  },
  {
   "cell_type": "code",
   "execution_count": null,
   "id": "c0b8f034-9dd7-45d3-bd01-c9e12bd073fb",
   "metadata": {},
   "outputs": [],
   "source": [
    "#!pip install -r ../requirements.txt"
   ]
  },
  {
   "cell_type": "markdown",
   "id": "77f7c572-b3e6-4605-96ba-d35dd68ce75e",
   "metadata": {},
   "source": [
    "### Help about basic functionality"
   ]
  },
  {
   "cell_type": "code",
   "execution_count": null,
   "id": "ff5131a5-c8cb-44d0-affd-f917d48026ac",
   "metadata": {},
   "outputs": [],
   "source": [
    "!python ../src/III.py -h"
   ]
  },
  {
   "cell_type": "markdown",
   "id": "facf9f25-06b7-4863-a43e-69e3ffb580c8",
   "metadata": {},
   "source": [
    "### Help to encode"
   ]
  },
  {
   "cell_type": "code",
   "execution_count": null,
   "id": "cba7aef5-b4fa-41e0-99de-0ddc97d14565",
   "metadata": {},
   "outputs": [],
   "source": [
    "!python ../src/III.py decode -h"
   ]
  },
  {
   "cell_type": "markdown",
   "id": "867b0d69-1846-4688-8d6f-f7de3cf48baf",
   "metadata": {},
   "source": [
    "### Encode and decoding a remote video"
   ]
  },
  {
   "cell_type": "code",
   "execution_count": null,
   "id": "178ae86f-cc39-4855-97d5-a86197cb6115",
   "metadata": {},
   "outputs": [],
   "source": [
    "Video(\"http://www.hpca.ual.es/~vruiz/videos/mobile_352x288x30x420x300.mp4\")"
   ]
  },
  {
   "cell_type": "code",
   "execution_count": null,
   "id": "898ac549-e43d-4876-8362-e85e7a6b4506",
   "metadata": {},
   "outputs": [],
   "source": [
    "!python ../src/III.py encode -i http://www.hpca.ual.es/~vruiz/videos/mobile_352x288x30x420x300.mp4"
   ]
  },
  {
   "cell_type": "code",
   "execution_count": null,
   "id": "c5a6723e-a344-473c-b36b-da1b7da466a0",
   "metadata": {},
   "outputs": [],
   "source": [
    "!python ../src/III.py decode"
   ]
  },
  {
   "cell_type": "code",
   "execution_count": null,
   "id": "fe49bbc8-6d7b-40f6-8210-6d8ea39b2651",
   "metadata": {},
   "outputs": [],
   "source": [
    "!mplayer /tmp/decoded.mp4 -loop 0"
   ]
  },
  {
   "cell_type": "markdown",
   "id": "3345e22b-c396-422d-98d4-523616e75dde",
   "metadata": {},
   "source": [
    "### Encode and decode a local video"
   ]
  },
  {
   "cell_type": "code",
   "execution_count": null,
   "id": "c2ca722d-82fb-4288-8eff-e9e332ac58c5",
   "metadata": {},
   "outputs": [],
   "source": [
    "!wget http://www.hpca.ual.es/~vruiz/videos/coastguard_352x288x30x420x300.avi"
   ]
  },
  {
   "cell_type": "code",
   "execution_count": null,
   "id": "b0cdebea-5ae2-40fc-9ef1-49b6d5c410fb",
   "metadata": {},
   "outputs": [],
   "source": [
    "!mplayer coastguard_352x288x30x420x300.avi"
   ]
  },
  {
   "cell_type": "code",
   "execution_count": null,
   "id": "1294e83b-61cf-4102-b42e-4414d2b33322",
   "metadata": {},
   "outputs": [],
   "source": [
    "!python ../src/III.py encode -i coastguard_352x288x30x420x300.avi"
   ]
  },
  {
   "cell_type": "code",
   "execution_count": null,
   "id": "66fdc894-015f-4652-8cee-814b8e1867d0",
   "metadata": {},
   "outputs": [],
   "source": [
    "!python ../src/III.py decode"
   ]
  },
  {
   "cell_type": "code",
   "execution_count": null,
   "id": "357fe763-ac02-41e5-bcd8-e02e36edf461",
   "metadata": {},
   "outputs": [],
   "source": [
    "!mplayer /tmp/decoded.mp4 -loop 0 -quiet"
   ]
  },
  {
   "cell_type": "markdown",
   "id": "c3dfd866-57ce-41ce-bd90-8f96dbd82eda",
   "metadata": {},
   "source": [
    "### Default encoding and decoding (lena)"
   ]
  },
  {
   "cell_type": "code",
   "execution_count": null,
   "id": "29fbe5e2-254c-4b19-bf0e-d424a0c41ad7",
   "metadata": {},
   "outputs": [],
   "source": [
    "!rm /tmp/*.png /tmp/*.TIFF"
   ]
  },
  {
   "cell_type": "code",
   "execution_count": null,
   "id": "e9407913-d1fc-4fd2-bf5e-ae2a150198c9",
   "metadata": {},
   "outputs": [],
   "source": [
    "!python ../src/III.py encode"
   ]
  },
  {
   "cell_type": "code",
   "execution_count": null,
   "id": "46ba71f2-c27f-4e81-9478-b98e166d960c",
   "metadata": {},
   "outputs": [],
   "source": [
    "!python ../src/III.py decode"
   ]
  },
  {
   "cell_type": "code",
   "execution_count": null,
   "id": "8a130edc-012d-4d6d-96d0-aee2b67e9945",
   "metadata": {},
   "outputs": [],
   "source": [
    "!mplayer /tmp/decoded.mp4 -loop 0 -quiet"
   ]
  },
  {
   "cell_type": "markdown",
   "id": "f0d2dca1-3b6a-4ba7-acca-6b1209abfedb",
   "metadata": {},
   "source": [
    "### Using 2D-DWT"
   ]
  },
  {
   "cell_type": "code",
   "execution_count": null,
   "id": "a42485ad-beff-4ae7-bbe2-2f70fd4fa758",
   "metadata": {},
   "outputs": [],
   "source": [
    "!python ../src/III.py encode -T 2D-DWT -i mobile_352x288x30x420x300.mp4"
   ]
  },
  {
   "cell_type": "code",
   "execution_count": null,
   "id": "645fa615-40ab-4d31-804c-2c23b4124f1b",
   "metadata": {},
   "outputs": [],
   "source": [
    "!python ../src/III.py decode -T 2D-DWT"
   ]
  },
  {
   "cell_type": "code",
   "execution_count": null,
   "id": "0ab73231-b966-45e2-819b-177ba4c6d834",
   "metadata": {},
   "outputs": [],
   "source": [
    "!mplayer /tmp/decoded.mp4 -loop 0 -quiet"
   ]
  },
  {
   "cell_type": "markdown",
   "id": "1df7510a-19d4-4039-ad87-cb50b537b545",
   "metadata": {},
   "source": [
    "### Using VQ"
   ]
  },
  {
   "cell_type": "code",
   "execution_count": null,
   "id": "a1954497-cd45-41bc-a5ab-8584500690a8",
   "metadata": {},
   "outputs": [],
   "source": [
    "!rm /tmp/*.png /tmp/*.TIFF /tmp/*.npz"
   ]
  },
  {
   "cell_type": "code",
   "execution_count": null,
   "id": "bf74617c-3aba-4bdd-9071-09e3cd8d6e1c",
   "metadata": {},
   "outputs": [],
   "source": [
    "!python ../src/III.py encode -N 8 -T VQ -b 8 -n 256 -i coastguard_352x288x30x420x300.avi"
   ]
  },
  {
   "cell_type": "code",
   "execution_count": null,
   "id": "f32e287a-5739-4796-a5bd-7e75af885d79",
   "metadata": {},
   "outputs": [],
   "source": [
    "!python ../src/III.py decode -N 8 -T VQ -b 8 -n 256"
   ]
  },
  {
   "cell_type": "code",
   "execution_count": null,
   "id": "4c723ebb-4b74-4792-be4b-b583cd509aee",
   "metadata": {},
   "outputs": [],
   "source": [
    "!mplayer /tmp/decoded.mp4 -loop 0 -quiet"
   ]
  },
  {
   "cell_type": "markdown",
   "id": "37a347f4-9059-4bf0-9537-116d189ddcae",
   "metadata": {},
   "source": [
    "### Encoding an image as a video"
   ]
  },
  {
   "cell_type": "code",
   "execution_count": null,
   "id": "aa596420-0b7f-41e0-a00e-eaecab8a35c7",
   "metadata": {},
   "outputs": [],
   "source": [
    "!python ../III.py encode -T deadzone"
   ]
  },
  {
   "cell_type": "code",
   "execution_count": null,
   "id": "619dc7fc-9c44-4bcd-b260-b4633a8ba2f9",
   "metadata": {},
   "outputs": [],
   "source": [
    "!python ../III.py decode -N 1 -T deadzone"
   ]
  }
 ],
 "metadata": {
  "kernelspec": {
   "display_name": "Python 3 (ipykernel)",
   "language": "python",
   "name": "python3"
  },
  "language_info": {
   "codemirror_mode": {
    "name": "ipython",
    "version": 3
   },
   "file_extension": ".py",
   "mimetype": "text/x-python",
   "name": "python",
   "nbconvert_exporter": "python",
   "pygments_lexer": "ipython3",
   "version": "3.12.2"
  }
 },
 "nbformat": 4,
 "nbformat_minor": 5
}
