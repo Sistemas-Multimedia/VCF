{
 "cells": [
  {
   "cell_type": "markdown",
   "id": "fd58efe9-d816-4559-bdd1-f76fdcfc100d",
   "metadata": {},
   "source": [
    "## Video Intra-coding"
   ]
  },
  {
   "cell_type": "code",
   "execution_count": null,
   "id": "1e42347e-49b9-4b47-9637-51da1c5fca58",
   "metadata": {},
   "outputs": [],
   "source": [
    "from IPython.display import Video"
   ]
  },
  {
   "cell_type": "code",
   "execution_count": null,
   "id": "c0b8f034-9dd7-45d3-bd01-c9e12bd073fb",
   "metadata": {},
   "outputs": [],
   "source": [
    "#!pip install -r ../requirements.txt"
   ]
  },
  {
   "cell_type": "markdown",
   "id": "77f7c572-b3e6-4605-96ba-d35dd68ce75e",
   "metadata": {},
   "source": [
    "### Help about basic functionality"
   ]
  },
  {
   "cell_type": "code",
   "execution_count": null,
   "id": "ff5131a5-c8cb-44d0-affd-f917d48026ac",
   "metadata": {},
   "outputs": [],
   "source": [
    "!python ../src/III.py -h"
   ]
  },
  {
   "cell_type": "markdown",
   "id": "facf9f25-06b7-4863-a43e-69e3ffb580c8",
   "metadata": {},
   "source": [
    "### Help to encode"
   ]
  },
  {
   "cell_type": "code",
   "execution_count": null,
   "id": "cba7aef5-b4fa-41e0-99de-0ddc97d14565",
   "metadata": {},
   "outputs": [],
   "source": [
    "!python ../src/III.py decode -h"
   ]
  },
  {
   "cell_type": "markdown",
   "id": "867b0d69-1846-4688-8d6f-f7de3cf48baf",
   "metadata": {},
   "source": [
    "### Encode and decoding a remote video"
   ]
  },
  {
   "cell_type": "code",
   "execution_count": null,
   "id": "178ae86f-cc39-4855-97d5-a86197cb6115",
   "metadata": {},
   "outputs": [],
   "source": [
    "Video(\"http://www.hpca.ual.es/~vruiz/videos/mobile_352x288x30x420x300.mp4\")"
   ]
  },
  {
   "cell_type": "code",
   "execution_count": null,
   "id": "898ac549-e43d-4876-8362-e85e7a6b4506",
   "metadata": {},
   "outputs": [],
   "source": [
    "!python ../src/III.py encode -i http://www.hpca.ual.es/~vruiz/videos/mobile_352x288x30x420x300.mp4"
   ]
  },
  {
   "cell_type": "code",
   "execution_count": null,
   "id": "c5a6723e-a344-473c-b36b-da1b7da466a0",
   "metadata": {},
   "outputs": [],
   "source": [
    "!python ../src/III.py decode"
   ]
  },
  {
   "cell_type": "code",
   "execution_count": null,
   "id": "fe49bbc8-6d7b-40f6-8210-6d8ea39b2651",
   "metadata": {},
   "outputs": [],
   "source": [
    "!mplayer /tmp/decoded.mp4 -loop 0"
   ]
  },
  {
   "cell_type": "markdown",
   "id": "3345e22b-c396-422d-98d4-523616e75dde",
   "metadata": {},
   "source": [
    "### Encode and decode a local video"
   ]
  },
  {
   "cell_type": "code",
   "execution_count": null,
   "id": "c2ca722d-82fb-4288-8eff-e9e332ac58c5",
   "metadata": {},
   "outputs": [],
   "source": [
    "!wget http://www.hpca.ual.es/~vruiz/videos/coastguard_352x288x30x420x300.avi"
   ]
  },
  {
   "cell_type": "code",
   "execution_count": null,
   "id": "b0cdebea-5ae2-40fc-9ef1-49b6d5c410fb",
   "metadata": {},
   "outputs": [],
   "source": [
    "!mplayer coastguard_352x288x30x420x300.avi"
   ]
  },
  {
   "cell_type": "code",
   "execution_count": null,
   "id": "1294e83b-61cf-4102-b42e-4414d2b33322",
   "metadata": {},
   "outputs": [],
   "source": [
    "!python ../src/III.py encode -i coastguard_352x288x30x420x300.avi"
   ]
  },
  {
   "cell_type": "code",
   "execution_count": null,
   "id": "66fdc894-015f-4652-8cee-814b8e1867d0",
   "metadata": {},
   "outputs": [],
   "source": [
    "!python ../src/III.py decode"
   ]
  },
  {
   "cell_type": "code",
   "execution_count": null,
   "id": "357fe763-ac02-41e5-bcd8-e02e36edf461",
   "metadata": {},
   "outputs": [],
   "source": [
    "!mplayer /tmp/decoded.mp4 -loop 0 -quiet"
   ]
  },
  {
   "cell_type": "markdown",
   "id": "c3dfd866-57ce-41ce-bd90-8f96dbd82eda",
   "metadata": {},
   "source": [
    "### Default encoding and decoding (lena)"
   ]
  },
  {
   "cell_type": "code",
   "execution_count": null,
   "id": "29fbe5e2-254c-4b19-bf0e-d424a0c41ad7",
   "metadata": {},
   "outputs": [],
   "source": [
    "!rm /tmp/*.png /tmp/*.TIFF"
   ]
  },
  {
   "cell_type": "code",
   "execution_count": null,
   "id": "e9407913-d1fc-4fd2-bf5e-ae2a150198c9",
   "metadata": {},
   "outputs": [],
   "source": [
    "!python ../src/III.py encode"
   ]
  },
  {
   "cell_type": "code",
   "execution_count": null,
   "id": "46ba71f2-c27f-4e81-9478-b98e166d960c",
   "metadata": {},
   "outputs": [],
   "source": [
    "!python ../src/III.py decode"
   ]
  },
  {
   "cell_type": "code",
   "execution_count": null,
   "id": "8a130edc-012d-4d6d-96d0-aee2b67e9945",
   "metadata": {},
   "outputs": [],
   "source": [
    "!mplayer /tmp/decoded.mp4 -loop 0 -quiet"
   ]
  },
  {
   "cell_type": "markdown",
   "id": "f0d2dca1-3b6a-4ba7-acca-6b1209abfedb",
   "metadata": {},
   "source": [
    "### Using 2D-DWT"
   ]
  },
  {
   "cell_type": "code",
   "execution_count": null,
   "id": "a42485ad-beff-4ae7-bbe2-2f70fd4fa758",
   "metadata": {},
   "outputs": [],
   "source": [
    "!python ../src/III.py encode -T 2D-DWT -i mobile_352x288x30x420x300.mp4"
   ]
  },
  {
   "cell_type": "code",
   "execution_count": null,
   "id": "645fa615-40ab-4d31-804c-2c23b4124f1b",
   "metadata": {},
   "outputs": [],
   "source": [
    "!python ../src/III.py decode -T 2D-DWT"
   ]
  },
  {
   "cell_type": "code",
   "execution_count": null,
   "id": "0ab73231-b966-45e2-819b-177ba4c6d834",
   "metadata": {},
   "outputs": [],
   "source": [
    "!mplayer /tmp/decoded.mp4 -loop 0 -quiet"
   ]
  },
  {
   "cell_type": "markdown",
   "id": "1df7510a-19d4-4039-ad87-cb50b537b545",
   "metadata": {},
   "source": [
    "### Using VQ"
   ]
  },
  {
   "cell_type": "code",
   "execution_count": 34,
   "id": "a1954497-cd45-41bc-a5ab-8584500690a8",
   "metadata": {},
   "outputs": [],
   "source": [
    "!rm /tmp/*.png /tmp/*.TIFF /tmp/*.npz"
   ]
  },
  {
   "cell_type": "code",
   "execution_count": 43,
   "id": "bf74617c-3aba-4bdd-9071-09e3cd8d6e1c",
   "metadata": {},
   "outputs": [
    {
     "name": "stdout",
     "output_type": "stream",
     "text": [
      "main Namespace(debug=False, subparser_name='encode', transform='VQ', number_of_frames=8, block_size_VQ=8, N_clusters=256, entropy_image_codec='TIFF', input='coastguard_352x288x30x420x300.avi', output='/tmp/encoded', func=<function encode at 0x7f74a76771a0>)\n",
      "(INFO) main: input = coastguard_352x288x30x420x300.avi\n",
      "(INFO) main: output = /tmp/encoded\n",
      "(INFO) III: Using VQ transform\n",
      "(INFO) III: Encoding coastguard_352x288x30x420x300.avi\n",
      "(INFO) III: Extracted frame /tmp/encoded_0000.png (352, 288) RGB in=77644 out=176121\n",
      "(INFO) entropy_image_coding: Written 1816 bytes in /tmp/encoded_0000.TIFF\n",
      "---------------> 1 8\n",
      "(INFO) III: Extracted frame /tmp/encoded_0001.png (352, 288) RGB in=64282 out=176149\n",
      "(INFO) entropy_image_coding: Written 1824 bytes in /tmp/encoded_0001.TIFF\n",
      "---------------> 2 8\n",
      "(INFO) III: Extracted frame /tmp/encoded_0002.png (352, 288) RGB in=63848 out=175820\n",
      "(INFO) entropy_image_coding: Written 1813 bytes in /tmp/encoded_0002.TIFF\n",
      "---------------> 3 8\n",
      "(INFO) III: Extracted frame /tmp/encoded_0003.png (352, 288) RGB in=63360 out=175043\n",
      "(INFO) entropy_image_coding: Written 1797 bytes in /tmp/encoded_0003.TIFF\n",
      "---------------> 4 8\n",
      "(INFO) III: Extracted frame /tmp/encoded_0004.png (352, 288) RGB in=65709 out=175574\n",
      "(INFO) entropy_image_coding: Written 1821 bytes in /tmp/encoded_0004.TIFF\n",
      "---------------> 5 8\n",
      "(INFO) III: Extracted frame /tmp/encoded_0005.png (352, 288) RGB in=63297 out=175807\n",
      "(INFO) entropy_image_coding: Written 1862 bytes in /tmp/encoded_0005.TIFF\n",
      "---------------> 6 8\n",
      "(INFO) III: Extracted frame /tmp/encoded_0006.png (352, 288) RGB in=64756 out=176099\n",
      "(INFO) entropy_image_coding: Written 1833 bytes in /tmp/encoded_0006.TIFF\n",
      "---------------> 7 8\n",
      "(INFO) III: Extracted frame /tmp/encoded_0007.png (352, 288) RGB in=64490 out=175913\n",
      "(INFO) entropy_image_coding: Written 1813 bytes in /tmp/encoded_0007.TIFF\n",
      "---------------> 8 8\n",
      "(INFO) III: Extracted frame /tmp/encoded_0008.png (352, 288) RGB in=63400 out=176522\n",
      "(INFO) entropy_image_coding: Written 1800 bytes in /tmp/encoded_0008.TIFF\n",
      "---------------> 9 8\n",
      "(INFO) entropy_video_coding: Total 590786 bytes read\n",
      "(INFO) entropy_video_coding: Total 1583048 bytes written\n",
      "(INFO) entropy_video_coding: N_frames=9\n",
      "(INFO) entropy_video_coding: width=352\n",
      "(INFO) entropy_video_coding: height=288\n",
      "(INFO) entropy_video_coding: N_channels=3\n",
      "(INFO) entropy_video_coding: Encoding (output) rate = 13.88054152637486 bits/pixel\n",
      "(INFO) entropy_image_coding: Total 1583048 bytes read\n",
      "(INFO) entropy_image_coding: Total 888078 bytes written\n",
      "(INFO) entropy_image_coding: rate = 70.08191287878788 bits/pixel\n"
     ]
    }
   ],
   "source": [
    "!python ../src/III.py encode -N 8 -T VQ -b 8 -n 256 -i coastguard_352x288x30x420x300.avi"
   ]
  },
  {
   "cell_type": "code",
   "execution_count": 44,
   "id": "f32e287a-5739-4796-a5bd-7e75af885d79",
   "metadata": {},
   "outputs": [
    {
     "name": "stdout",
     "output_type": "stream",
     "text": [
      "main Namespace(debug=False, subparser_name='decode', transform='VQ', number_of_frames=8, block_size_VQ=8, N_clusters=256, entropy_image_codec='TIFF', filter='none', filter_size=3, input='/tmp/encoded', output='/tmp/decoded.png', func=<function decode at 0x7fb314cab240>)\n",
      "(INFO) main: input = /tmp/encoded\n",
      "(INFO) main: output = /tmp/decoded.png\n",
      "(INFO) III: Using VQ transform\n",
      "(INFO) III: /tmp/encoded_0000.png\n",
      "(INFO) III: Decoding frame /tmp/encoded_0000 into /tmp/encoded_0000.png\n",
      "(INFO) blur: Using filter none with size 3\n",
      "(INFO) III: /tmp/encoded_0001.png\n",
      "(INFO) III: Decoding frame /tmp/encoded_0001 into /tmp/encoded_0001.png\n",
      "(INFO) blur: Using filter none with size 3\n",
      "(INFO) III: /tmp/encoded_0002.png\n",
      "(INFO) III: Decoding frame /tmp/encoded_0002 into /tmp/encoded_0002.png\n",
      "(INFO) blur: Using filter none with size 3\n",
      "(INFO) III: /tmp/encoded_0003.png\n",
      "(INFO) III: Decoding frame /tmp/encoded_0003 into /tmp/encoded_0003.png\n",
      "(INFO) blur: Using filter none with size 3\n",
      "(INFO) III: /tmp/encoded_0004.png\n",
      "(INFO) III: Decoding frame /tmp/encoded_0004 into /tmp/encoded_0004.png\n",
      "(INFO) blur: Using filter none with size 3\n",
      "(INFO) III: /tmp/encoded_0005.png\n",
      "(INFO) III: Decoding frame /tmp/encoded_0005 into /tmp/encoded_0005.png\n",
      "(INFO) blur: Using filter none with size 3\n",
      "(INFO) III: /tmp/encoded_0006.png\n",
      "(INFO) III: Decoding frame /tmp/encoded_0006 into /tmp/encoded_0006.png\n",
      "(INFO) blur: Using filter none with size 3\n",
      "(INFO) III: /tmp/encoded_0007.png\n",
      "(INFO) III: Decoding frame /tmp/encoded_0007 into /tmp/encoded_0007.png\n",
      "(INFO) blur: Using filter none with size 3\n",
      "(INFO) III: /tmp/encoded_0008.png\n",
      "(INFO) III: Decoding frame /tmp/encoded_0008 into /tmp/encoded_0008.png\n",
      "(INFO) blur: Using filter none with size 3\n",
      "['/tmp/encoded_0000.png', '/tmp/encoded_0001.png', '/tmp/encoded_0002.png', '/tmp/encoded_0003.png', '/tmp/encoded_0004.png', '/tmp/encoded_0005.png', '/tmp/encoded_0006.png', '/tmp/encoded_0007.png', '/tmp/encoded_0008.png']\n",
      "['/tmp/encoded_0000.png', '/tmp/encoded_0001.png', '/tmp/encoded_0002.png', '/tmp/encoded_0003.png', '/tmp/encoded_0004.png', '/tmp/encoded_0005.png', '/tmp/encoded_0006.png', '/tmp/encoded_0007.png', '/tmp/encoded_0008.png']\n",
      "(INFO) III: Decoding frame 0 into /tmp/decoded.mp4\n",
      "(INFO) III: Decoding frame 1 into /tmp/decoded.mp4\n",
      "(INFO) III: Decoding frame 2 into /tmp/decoded.mp4\n",
      "(INFO) III: Decoding frame 3 into /tmp/decoded.mp4\n",
      "(INFO) III: Decoding frame 4 into /tmp/decoded.mp4\n",
      "(INFO) III: Decoding frame 5 into /tmp/decoded.mp4\n",
      "(INFO) III: Decoding frame 6 into /tmp/decoded.mp4\n",
      "(INFO) III: Decoding frame 7 into /tmp/decoded.mp4\n",
      "(INFO) III: Decoding frame 8 into /tmp/decoded.mp4\n",
      "(INFO) entropy_video_coding: Total 0 bytes read\n",
      "(INFO) entropy_video_coding: Total 0 bytes written\n",
      "(INFO) entropy_video_coding: N_frames=9\n",
      "(INFO) entropy_video_coding: width=352\n",
      "(INFO) entropy_video_coding: height=288\n",
      "(INFO) entropy_video_coding: N_channels=3\n",
      "(INFO) entropy_video_coding: original_file=/tmp/encoded_0008.png\n",
      "(INFO) entropy_video_coding: N_frames=9.0\n",
      "(INFO) entropy_video_coding: BPP=13.88054152637486\n",
      "(INFO) entropy_video_coding: Computing RD performance ...\n",
      "(INFO) entropy_video_coding: \n",
      "RMSE = 2.416594428408386\n",
      "(INFO) entropy_video_coding: J = R + D = 16.297135954783244\n",
      "(INFO) entropy_image_coding: Total 888078 bytes read\n",
      "(INFO) entropy_image_coding: Total 635754 bytes written\n"
     ]
    }
   ],
   "source": [
    "!python ../src/III.py decode -N 8 -T VQ -b 8 -n 256"
   ]
  },
  {
   "cell_type": "code",
   "execution_count": 45,
   "id": "4c723ebb-4b74-4792-be4b-b583cd509aee",
   "metadata": {},
   "outputs": [
    {
     "name": "stdout",
     "output_type": "stream",
     "text": [
      "MPlayer UNKNOWN-12 (C) 2000-2023 MPlayer Team\n",
      "do_connect: could not connect to socket\n",
      "connect: No such file or directory\n",
      "Failed to open LIRC support. You will not be able to use your remote control.\n",
      "\n",
      "Playing /tmp/decoded.mp4.\n",
      "libavformat version 59.27.100 (external)\n",
      "AVI file format detected.\n",
      "[aviheader] Video stream found, -vid 0\n",
      "AVI: No audio stream found -> no sound.\n",
      "VIDEO:  [H264]  352x288  24bpp  30.000 fps  21217.4 kbps (2590.0 kbyte/s)\n",
      "libva info: VA-API version 1.22.0\n",
      "libva info: Trying to open /usr/lib/x86_64-linux-gnu/dri/iHD_drv_video.so\n",
      "libva info: Found init function __vaDriverInit_1_22\n",
      "libva info: va_openDriver() returns 0\n",
      "==========================================================================\n",
      "Opening video decoder: [ffmpeg] FFmpeg's libavcodec codec family\n",
      "libavcodec version 59.37.100 (external)\n",
      "Selected video codec: [ffh264] vfm: ffmpeg (FFmpeg H.264)\n",
      "==========================================================================\n",
      "Clip info:\n",
      " Software: Lavf61.7.100\n",
      "Load subtitles in /tmp/\n",
      "Audio: no sound\n",
      "Starting playback...\n",
      "Could not find matching colorspace - retrying with -vf scale...\n",
      "Opening video filter: [scale]\n",
      "Movie-Aspect is undefined - no prescaling applied.\n",
      "[swscaler @ 0x7fc71f806f20]bicubic scaler, from yuv444p to yuv420p using MMXEXT\n",
      "VO: [vdpau] 352x288 => 352x288 Planar YV12 \n",
      "\n",
      "Exiting... (Quit)\n"
     ]
    }
   ],
   "source": [
    "!mplayer /tmp/decoded.mp4 -loop 0 -quiet"
   ]
  },
  {
   "cell_type": "markdown",
   "id": "37a347f4-9059-4bf0-9537-116d189ddcae",
   "metadata": {},
   "source": [
    "### Encoding an image as a video"
   ]
  },
  {
   "cell_type": "code",
   "execution_count": null,
   "id": "aa596420-0b7f-41e0-a00e-eaecab8a35c7",
   "metadata": {},
   "outputs": [],
   "source": [
    "!python ../III.py encode -T deadzone"
   ]
  },
  {
   "cell_type": "code",
   "execution_count": null,
   "id": "619dc7fc-9c44-4bcd-b260-b4633a8ba2f9",
   "metadata": {},
   "outputs": [],
   "source": [
    "!python ../III.py decode -N 1 -T deadzone"
   ]
  }
 ],
 "metadata": {
  "kernelspec": {
   "display_name": "Python 3 (ipykernel)",
   "language": "python",
   "name": "python3"
  },
  "language_info": {
   "codemirror_mode": {
    "name": "ipython",
    "version": 3
   },
   "file_extension": ".py",
   "mimetype": "text/x-python",
   "name": "python",
   "nbconvert_exporter": "python",
   "pygments_lexer": "ipython3",
   "version": "3.12.2"
  }
 },
 "nbformat": 4,
 "nbformat_minor": 5
}
