{
 "cells": [
  {
   "cell_type": "markdown",
   "id": "fd58efe9-d816-4559-bdd1-f76fdcfc100d",
   "metadata": {},
   "source": [
    "## Video Intra-coding"
   ]
  },
  {
   "cell_type": "code",
   "execution_count": 1,
   "id": "1e42347e-49b9-4b47-9637-51da1c5fca58",
   "metadata": {},
   "outputs": [],
   "source": [
    "from IPython.display import Video"
   ]
  },
  {
   "cell_type": "code",
   "execution_count": 2,
   "id": "c0b8f034-9dd7-45d3-bd01-c9e12bd073fb",
   "metadata": {},
   "outputs": [],
   "source": [
    "#!pip install -r ../requirements.txt"
   ]
  },
  {
   "cell_type": "markdown",
   "id": "77f7c572-b3e6-4605-96ba-d35dd68ce75e",
   "metadata": {},
   "source": [
    "### Help about basic functionality"
   ]
  },
  {
   "cell_type": "code",
   "execution_count": 3,
   "id": "ff5131a5-c8cb-44d0-affd-f917d48026ac",
   "metadata": {},
   "outputs": [
    {
     "name": "stdout",
     "output_type": "stream",
     "text": [
      "usage: III.py [-h] [-g] {encode,decode} ...\n",
      "\n",
      "III... coding: runs a 2D image codec to a sequence of images.\n",
      "\n",
      "positional arguments:\n",
      "  {encode,decode}  You must specify one of the following subcomands:\n",
      "    encode         Encode an image or video\n",
      "    decode         Decode an image or video\n",
      "\n",
      "options:\n",
      "  -h, --help       show this help message and exit\n",
      "  -g, --debug      Output debug information (default: False)\n"
     ]
    }
   ],
   "source": [
    "!python ../src/III.py -h"
   ]
  },
  {
   "cell_type": "markdown",
   "id": "facf9f25-06b7-4863-a43e-69e3ffb580c8",
   "metadata": {},
   "source": [
    "### Help to encode"
   ]
  },
  {
   "cell_type": "code",
   "execution_count": 4,
   "id": "cba7aef5-b4fa-41e0-99de-0ddc97d14565",
   "metadata": {},
   "outputs": [
    {
     "name": "stdout",
     "output_type": "stream",
     "text": [
      "usage: III.py decode [-h] [-T TRANSFORM] [-N NUMBER_OF_FRAMES]\n",
      "\n",
      "options:\n",
      "  -h, --help            show this help message and exit\n",
      "  -T TRANSFORM, --transform TRANSFORM\n",
      "                        2D-transform, default: 2D-DCT\n",
      "  -N NUMBER_OF_FRAMES, --number_of_frames NUMBER_OF_FRAMES\n",
      "                        Number of frames to decode (default: 3)\n"
     ]
    }
   ],
   "source": [
    "!python ../src/III.py decode -h"
   ]
  },
  {
   "cell_type": "markdown",
   "id": "867b0d69-1846-4688-8d6f-f7de3cf48baf",
   "metadata": {},
   "source": [
    "### Encode and decoding a remote video"
   ]
  },
  {
   "cell_type": "code",
   "execution_count": 5,
   "id": "178ae86f-cc39-4855-97d5-a86197cb6115",
   "metadata": {},
   "outputs": [
    {
     "data": {
      "text/html": [
       "<video src=\"http://www.hpca.ual.es/~vruiz/videos/mobile_352x288x30x420x300.mp4\" controls  >\n",
       "      Your browser does not support the <code>video</code> element.\n",
       "    </video>"
      ],
      "text/plain": [
       "<IPython.core.display.Video object>"
      ]
     },
     "execution_count": 5,
     "metadata": {},
     "output_type": "execute_result"
    }
   ],
   "source": [
    "Video(\"http://www.hpca.ual.es/~vruiz/videos/mobile_352x288x30x420x300.mp4\")"
   ]
  },
  {
   "cell_type": "code",
   "execution_count": 6,
   "id": "898ac549-e43d-4876-8362-e85e7a6b4506",
   "metadata": {},
   "outputs": [
    {
     "name": "stdout",
     "output_type": "stream",
     "text": [
      "main Namespace(debug=False, subparser_name='encode', transform='2D-DCT', number_of_frames=3, block_size_DCT=8, color_transform='YCoCg', perceptual_quantization=False, Lambda=None, disable_subbands=False, quantizer='deadzone', QSS=32, entropy_image_codec='TIFF', input='http://www.hpca.ual.es/~vruiz/videos/mobile_352x288x30x420x300.mp4', output='/tmp/encoded', func=<function encode at 0x7feabdfa7100>)\n",
      "(INFO) main: input = http://www.hpca.ual.es/~vruiz/videos/mobile_352x288x30x420x300.mp4\n",
      "(INFO) main: output = /tmp/encoded\n",
      "(INFO) III: Using 2D-DCT transform\n",
      "(INFO) III: Encoding http://www.hpca.ual.es/~vruiz/videos/mobile_352x288x30x420x300.mp4\n",
      "(INFO) III: Extracted frame /tmp/encoded_0000.png (352, 288) RGB in=103164 out=216228\n",
      "(INFO) entropy_image_coding: Written 31458 bytes in /tmp/encoded_0000.TIFF\n",
      "(INFO) III: O_bytes=None\n",
      "Traceback (most recent call last):\n",
      "  File \"/home/vruiz/repos/VCF/notebooks/../src/III.py\", line 180, in <module>\n",
      "    main.main(parser.parser, logging, CoDec)\n",
      "  File \"/home/vruiz/repos/VCF/src/main.py\", line 34, in main\n",
      "    args.func(codec)\n",
      "  File \"/home/vruiz/repos/VCF/src/parser.py\", line 12, in encode\n",
      "    return codec.encode()\n",
      "           ^^^^^^^^^^^^^^\n",
      "  File \"/home/vruiz/repos/VCF/notebooks/../src/III.py\", line 95, in encode\n",
      "    self.total_output_size += O_bytes\n",
      "TypeError: unsupported operand type(s) for +=: 'int' and 'NoneType'\n",
      "(INFO) entropy_video_coding: Total 103164 bytes read\n",
      "(INFO) entropy_video_coding: Total 0 bytes written\n",
      "(INFO) entropy_video_coding: Number of encoded frames = 0\n",
      "Exception ignored in: <function CoDec.__del__ at 0x7feaaac05300>\n",
      "Traceback (most recent call last):\n",
      "  File \"/home/vruiz/repos/VCF/src/entropy_video_coding.py\", line 71, in __del__\n",
      "    logging.info(f\"Video height (rows) = {self.height}\")\n",
      "                                          ^^^^^^^^^^^\n",
      "AttributeError: 'CoDec' object has no attribute 'height'\n",
      "(INFO) entropy_image_coding: Total 216228 bytes read\n",
      "(INFO) entropy_image_coding: Total 31459 bytes written\n",
      "(INFO) entropy_image_coding: Output bit-rate = 2.482559974747475 bits/pixel\n"
     ]
    }
   ],
   "source": [
    "!python ../src/III.py encode -i http://www.hpca.ual.es/~vruiz/videos/mobile_352x288x30x420x300.mp4"
   ]
  },
  {
   "cell_type": "code",
   "execution_count": null,
   "id": "c5a6723e-a344-473c-b36b-da1b7da466a0",
   "metadata": {},
   "outputs": [],
   "source": [
    "!python ../src/III.py decode"
   ]
  },
  {
   "cell_type": "code",
   "execution_count": null,
   "id": "fe49bbc8-6d7b-40f6-8210-6d8ea39b2651",
   "metadata": {},
   "outputs": [],
   "source": [
    "!mplayer /tmp/decoded.mp4 -loop 0"
   ]
  },
  {
   "cell_type": "markdown",
   "id": "3345e22b-c396-422d-98d4-523616e75dde",
   "metadata": {},
   "source": [
    "### Encode and decode a local video"
   ]
  },
  {
   "cell_type": "code",
   "execution_count": null,
   "id": "c2ca722d-82fb-4288-8eff-e9e332ac58c5",
   "metadata": {},
   "outputs": [],
   "source": [
    "!wget http://www.hpca.ual.es/~vruiz/videos/coastguard_352x288x30x420x300.avi"
   ]
  },
  {
   "cell_type": "code",
   "execution_count": null,
   "id": "b0cdebea-5ae2-40fc-9ef1-49b6d5c410fb",
   "metadata": {},
   "outputs": [],
   "source": [
    "!mplayer coastguard_352x288x30x420x300.avi"
   ]
  },
  {
   "cell_type": "code",
   "execution_count": null,
   "id": "1294e83b-61cf-4102-b42e-4414d2b33322",
   "metadata": {},
   "outputs": [],
   "source": [
    "!python ../src/III.py encode -i coastguard_352x288x30x420x300.avi"
   ]
  },
  {
   "cell_type": "code",
   "execution_count": null,
   "id": "66fdc894-015f-4652-8cee-814b8e1867d0",
   "metadata": {},
   "outputs": [],
   "source": [
    "!python ../src/III.py decode"
   ]
  },
  {
   "cell_type": "code",
   "execution_count": null,
   "id": "357fe763-ac02-41e5-bcd8-e02e36edf461",
   "metadata": {},
   "outputs": [],
   "source": [
    "!mplayer /tmp/decoded.mp4 -loop 0 -quiet"
   ]
  },
  {
   "cell_type": "markdown",
   "id": "c3dfd866-57ce-41ce-bd90-8f96dbd82eda",
   "metadata": {},
   "source": [
    "### Default encoding and decoding (lena)"
   ]
  },
  {
   "cell_type": "code",
   "execution_count": null,
   "id": "29fbe5e2-254c-4b19-bf0e-d424a0c41ad7",
   "metadata": {},
   "outputs": [],
   "source": [
    "!rm /tmp/*.png /tmp/*.TIFF"
   ]
  },
  {
   "cell_type": "code",
   "execution_count": null,
   "id": "e9407913-d1fc-4fd2-bf5e-ae2a150198c9",
   "metadata": {},
   "outputs": [],
   "source": [
    "!python ../src/III.py encode"
   ]
  },
  {
   "cell_type": "code",
   "execution_count": null,
   "id": "46ba71f2-c27f-4e81-9478-b98e166d960c",
   "metadata": {},
   "outputs": [],
   "source": [
    "!python ../src/III.py decode"
   ]
  },
  {
   "cell_type": "code",
   "execution_count": null,
   "id": "8a130edc-012d-4d6d-96d0-aee2b67e9945",
   "metadata": {},
   "outputs": [],
   "source": [
    "!mplayer /tmp/decoded.mp4 -loop 0 -quiet"
   ]
  },
  {
   "cell_type": "markdown",
   "id": "f0d2dca1-3b6a-4ba7-acca-6b1209abfedb",
   "metadata": {},
   "source": [
    "### Using 2D-DWT"
   ]
  },
  {
   "cell_type": "code",
   "execution_count": null,
   "id": "a42485ad-beff-4ae7-bbe2-2f70fd4fa758",
   "metadata": {},
   "outputs": [],
   "source": [
    "!python ../src/III.py encode -T 2D-DWT -i mobile_352x288x30x420x300.mp4"
   ]
  },
  {
   "cell_type": "code",
   "execution_count": null,
   "id": "645fa615-40ab-4d31-804c-2c23b4124f1b",
   "metadata": {},
   "outputs": [],
   "source": [
    "!python ../src/III.py decode -T 2D-DWT"
   ]
  },
  {
   "cell_type": "code",
   "execution_count": null,
   "id": "0ab73231-b966-45e2-819b-177ba4c6d834",
   "metadata": {},
   "outputs": [],
   "source": [
    "!mplayer /tmp/decoded.mp4 -loop 0 -quiet"
   ]
  },
  {
   "cell_type": "markdown",
   "id": "1df7510a-19d4-4039-ad87-cb50b537b545",
   "metadata": {},
   "source": [
    "### Using VQ"
   ]
  },
  {
   "cell_type": "code",
   "execution_count": null,
   "id": "a1954497-cd45-41bc-a5ab-8584500690a8",
   "metadata": {},
   "outputs": [],
   "source": [
    "!rm /tmp/*.png /tmp/*.TIFF /tmp/*.npz"
   ]
  },
  {
   "cell_type": "code",
   "execution_count": null,
   "id": "bf74617c-3aba-4bdd-9071-09e3cd8d6e1c",
   "metadata": {},
   "outputs": [],
   "source": [
    "!python ../src/III.py encode -N 8 -T VQ -b 8 -n 256 -i coastguard_352x288x30x420x300.avi"
   ]
  },
  {
   "cell_type": "code",
   "execution_count": null,
   "id": "f32e287a-5739-4796-a5bd-7e75af885d79",
   "metadata": {},
   "outputs": [],
   "source": [
    "!python ../src/III.py decode -N 8 -T VQ -b 8 -n 256"
   ]
  },
  {
   "cell_type": "code",
   "execution_count": null,
   "id": "4c723ebb-4b74-4792-be4b-b583cd509aee",
   "metadata": {},
   "outputs": [],
   "source": [
    "!mplayer /tmp/decoded.mp4 -loop 0 -quiet"
   ]
  },
  {
   "cell_type": "markdown",
   "id": "37a347f4-9059-4bf0-9537-116d189ddcae",
   "metadata": {},
   "source": [
    "### Encoding an image as a video"
   ]
  },
  {
   "cell_type": "code",
   "execution_count": null,
   "id": "aa596420-0b7f-41e0-a00e-eaecab8a35c7",
   "metadata": {},
   "outputs": [],
   "source": [
    "!python ../III.py encode -T deadzone"
   ]
  },
  {
   "cell_type": "code",
   "execution_count": null,
   "id": "619dc7fc-9c44-4bcd-b260-b4633a8ba2f9",
   "metadata": {},
   "outputs": [],
   "source": [
    "!python ../III.py decode -N 1 -T deadzone"
   ]
  }
 ],
 "metadata": {
  "kernelspec": {
   "display_name": "Python 3 (ipykernel)",
   "language": "python",
   "name": "python3"
  },
  "language_info": {
   "codemirror_mode": {
    "name": "ipython",
    "version": 3
   },
   "file_extension": ".py",
   "mimetype": "text/x-python",
   "name": "python",
   "nbconvert_exporter": "python",
   "pygments_lexer": "ipython3",
   "version": "3.12.2"
  }
 },
 "nbformat": 4,
 "nbformat_minor": 5
}
