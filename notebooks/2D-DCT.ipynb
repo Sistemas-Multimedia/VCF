{
 "cells": [
  {
   "cell_type": "markdown",
   "id": "fd58efe9-d816-4559-bdd1-f76fdcfc100d",
   "metadata": {},
   "source": [
    "## 2D - Discrete Cosine Transform image comression"
   ]
  },
  {
   "cell_type": "code",
   "execution_count": null,
   "id": "6a0c815c-386d-4bad-b37d-bb6c58f88fdd",
   "metadata": {},
   "outputs": [],
   "source": [
    "from IPython.display import Image, display"
   ]
  },
  {
   "cell_type": "code",
   "execution_count": null,
   "id": "45580a78-2cae-409c-95ee-753066f5b44d",
   "metadata": {},
   "outputs": [],
   "source": [
    "#!pip install -r ../requirements.txt"
   ]
  },
  {
   "cell_type": "markdown",
   "id": "14197b81-b2a9-4e8f-97e1-3ab383a2f644",
   "metadata": {},
   "source": [
    "### Help"
   ]
  },
  {
   "cell_type": "code",
   "execution_count": null,
   "id": "976d4c1c-efd2-48d6-a97a-aa7dfa481634",
   "metadata": {},
   "outputs": [],
   "source": [
    "!python ../src/2D-DCT.py -h"
   ]
  },
  {
   "cell_type": "code",
   "execution_count": null,
   "id": "ca895cdf-b3dc-42b0-845d-25e30b02db5b",
   "metadata": {},
   "outputs": [],
   "source": [
    "!python ../src/2D-DCT.py encode -h"
   ]
  },
  {
   "cell_type": "markdown",
   "id": "28277465-f77d-4a3c-9030-9f4199b36fdf",
   "metadata": {},
   "source": [
    "### Encoding and decoding"
   ]
  },
  {
   "cell_type": "code",
   "execution_count": null,
   "id": "ae7acafa-e5a9-4eea-a2a4-1d06afa06ad2",
   "metadata": {},
   "outputs": [],
   "source": [
    "!wget http://www.hpca.ual.es/~vruiz/images/pajarillo_512x512.png -O /tmp/pajarillo.png"
   ]
  },
  {
   "cell_type": "code",
   "execution_count": null,
   "id": "b92eb0a5-e493-4715-8c04-2608ad610d2b",
   "metadata": {},
   "outputs": [],
   "source": [
    "!python ../src/2D-DCT.py encode -i /tmp/pajarillo.png\n",
    "!python ../src/2D-DCT.py decode"
   ]
  },
  {
   "cell_type": "code",
   "execution_count": null,
   "id": "2392a249-abbc-4c27-aa42-7ba1325b2011",
   "metadata": {},
   "outputs": [],
   "source": [
    "display(Image(filename=\"/tmp/pajarillo.png\"))\n",
    "display(Image(filename=\"/tmp/decoded.png\"))"
   ]
  },
  {
   "cell_type": "markdown",
   "id": "2df74814-d9ed-4979-b5a6-743499d15bd8",
   "metadata": {},
   "source": [
    "### Comparing with YCoCg + VC"
   ]
  },
  {
   "cell_type": "code",
   "execution_count": null,
   "id": "010670dc-fa4c-47d0-bd53-d50ac473d8c9",
   "metadata": {},
   "outputs": [],
   "source": [
    "!python ../src/YCoCg.py encode -i /tmp/pajarillo.png -c VQ\n",
    "!python ../src/YCoCg.py decode -c VQ\n",
    "display(Image(filename=\"/tmp/decoded.png\"))"
   ]
  },
  {
   "cell_type": "markdown",
   "id": "65fd87a7-61bf-435a-9b07-fd548f867e30",
   "metadata": {},
   "source": [
    "### Disable the reordering of the coefficients into subbands"
   ]
  },
  {
   "cell_type": "code",
   "execution_count": null,
   "id": "c51c9db5-69c8-4d6c-b9b2-12098914ed4b",
   "metadata": {},
   "outputs": [],
   "source": [
    "!python ../src/2D-DCT.py encode -i /tmp/pajarillo.png -a\n",
    "!python ../src/2D-DCT.py decode -a\n",
    "display(Image(filename=\"/tmp/decoded.png\"))"
   ]
  },
  {
   "cell_type": "markdown",
   "id": "7e686705-36d6-4219-91e4-dbf8b8dfc67c",
   "metadata": {},
   "source": [
    "### Enable perceptual quantization"
   ]
  },
  {
   "cell_type": "code",
   "execution_count": null,
   "id": "fc787ba2-5b88-4d3c-aa11-d3901093a284",
   "metadata": {},
   "outputs": [],
   "source": [
    "!python ../src/2D-DCT.py encode -i /tmp/pajarillo.png -p -q 8 -B 32\n",
    "!python ../src/2D-DCT.py decode -p -q 8 -B 32\n",
    "display(Image(filename=\"/tmp/decoded.png\"))"
   ]
  },
  {
   "cell_type": "markdown",
   "id": "ba1e9910-6723-47eb-a7f1-7a32dc02a171",
   "metadata": {},
   "source": [
    "### Increase the quality with perceptual coding"
   ]
  },
  {
   "cell_type": "code",
   "execution_count": null,
   "id": "fae2273e-ef9e-4911-9e2a-d5382ceac779",
   "metadata": {},
   "outputs": [],
   "source": [
    "!python ../src/2D-DCT.py encode -i /tmp/pajarillo.png -p -q 8\n",
    "!python ../src/2D-DCT.py decode -p -q 8\n",
    "display(Image(filename=\"/tmp/decoded.png\"))"
   ]
  },
  {
   "cell_type": "markdown",
   "id": "1adce704-b5df-4877-9576-ca194fed20af",
   "metadata": {},
   "source": [
    "###  The same, but using a larger block size"
   ]
  },
  {
   "cell_type": "code",
   "execution_count": null,
   "id": "fc977b87-6ae7-4bf0-a3a7-d96ccccf7760",
   "metadata": {},
   "outputs": [],
   "source": [
    "!python ../src/2D-DCT.py encode -i /tmp/pajarillo.png -p -q 8 -B 32\n",
    "!python ../src/2D-DCT.py decode -p -q 8 -B 32\n",
    "display(Image(filename=\"/tmp/decoded.png\"))"
   ]
  },
  {
   "cell_type": "code",
   "execution_count": null,
   "id": "1f82d20e-9768-42d7-a94f-713eaff3e010",
   "metadata": {},
   "outputs": [],
   "source": []
  }
 ],
 "metadata": {
  "kernelspec": {
   "display_name": "Python 3 (ipykernel)",
   "language": "python",
   "name": "python3"
  },
  "language_info": {
   "codemirror_mode": {
    "name": "ipython",
    "version": 3
   },
   "file_extension": ".py",
   "mimetype": "text/x-python",
   "name": "python",
   "nbconvert_exporter": "python",
   "pygments_lexer": "ipython3",
   "version": "3.12.2"
  }
 },
 "nbformat": 4,
 "nbformat_minor": 5
}
