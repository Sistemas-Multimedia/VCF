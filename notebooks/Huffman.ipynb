{
 "cells": [
  {
   "cell_type": "markdown",
   "id": "fd58efe9-d816-4559-bdd1-f76fdcfc100d",
   "metadata": {},
   "source": [
    "## Huffman Encoding"
   ]
  },
  {
   "cell_type": "code",
   "execution_count": 2,
   "id": "976d4c1c-efd2-48d6-a97a-aa7dfa481634",
   "metadata": {},
   "outputs": [
    {
     "name": "stdout",
     "output_type": "stream",
     "text": [
      "Traceback (most recent call last):\n",
      "  File \"/home/vruiz/repos/VCF/notebooks/../src/Huffman.py\", line 9, in <module>\n",
      "    import parser\n",
      "  File \"/home/vruiz/repos/VCF/src/parser.py\", line 36, in <module>\n",
      "    parser = CustomArgumentParser(formatter_class=argparse.ArgumentDefaultsHelpFormatter, exit_on_error=False, description=description)\n",
      "             ^^^^^^^^^^^^^^^^^^^^^^^^^^^^^^^^^^^^^^^^^^^^^^^^^^^^^^^^^^^^^^^^^^^^^^^^^^^^^^^^^^^^^^^^^^^^^^^^^^^^^^^^^^^^^^^^^^^^^^^^^^\n",
      "  File \"/home/vruiz/repos/VCF/src/parser.py\", line 20, in __init__\n",
      "    super().__init__(prog, usage, description, epilog, parents, formatter_class, prefix_chars, fromfile_prefix_chars, argument_default, conflict_handler, add_help, allow_abbrev, exit_on_error)\n",
      "  File \"/home/vruiz/miniconda3/lib/python3.12/argparse.py\", line 1807, in __init__\n",
      "    self.add_argument(\n",
      "  File \"/home/vruiz/miniconda3/lib/python3.12/argparse.py\", line 1486, in add_argument\n",
      "    self._get_formatter()._format_args(action, None)\n",
      "    ^^^^^^^^^^^^^^^^^^^^^\n",
      "  File \"/home/vruiz/miniconda3/lib/python3.12/argparse.py\", line 2613, in _get_formatter\n",
      "    return self.formatter_class(prog=self.prog)\n",
      "           ^^^^^^^^^^^^^^^^^^^^^^^^^^^^^^^^^^^^\n",
      "  File \"/home/vruiz/miniconda3/lib/python3.12/argparse.py\", line 172, in __init__\n",
      "    import shutil\n",
      "  File \"/home/vruiz/miniconda3/lib/python3.12/shutil.py\", line 16, in <module>\n",
      "    import zlib\n",
      "  File \"/home/vruiz/repos/VCF/src/zlib.py\", line 10, in <module>\n",
      "    import entropy_image_coding as EIC\n",
      "  File \"/home/vruiz/repos/VCF/src/entropy_image_coding.py\", line 8, in <module>\n",
      "    from skimage import io as skimage_io # pip install scikit-image\n",
      "    ^^^^^^^^^^^^^^^^^^^^^^^^^^^^^^^^^^^^\n",
      "  File \"/home/vruiz/envs/SM/lib/python3.12/site-packages/skimage/io/__init__.py\", line 15, in <module>\n",
      "    reset_plugins()\n",
      "  File \"/home/vruiz/envs/SM/lib/python3.12/site-packages/skimage/io/manage_plugins.py\", line 95, in reset_plugins\n",
      "    _load_preferred_plugins()\n",
      "  File \"/home/vruiz/envs/SM/lib/python3.12/site-packages/skimage/io/manage_plugins.py\", line 75, in _load_preferred_plugins\n",
      "    _set_plugin(p_type, preferred_plugins['all'])\n",
      "  File \"/home/vruiz/envs/SM/lib/python3.12/site-packages/skimage/io/manage_plugins.py\", line 87, in _set_plugin\n",
      "    use_plugin(plugin, kind=plugin_type)\n",
      "  File \"/home/vruiz/envs/SM/lib/python3.12/site-packages/skimage/io/manage_plugins.py\", line 256, in use_plugin\n",
      "    _load(name)\n",
      "  File \"/home/vruiz/envs/SM/lib/python3.12/site-packages/skimage/io/manage_plugins.py\", line 300, in _load\n",
      "    plugin_module = __import__('skimage.io._plugins.' + modname, fromlist=[modname])\n",
      "                    ^^^^^^^^^^^^^^^^^^^^^^^^^^^^^^^^^^^^^^^^^^^^^^^^^^^^^^^^^^^^^^^^\n",
      "  File \"/home/vruiz/envs/SM/lib/python3.12/site-packages/skimage/io/_plugins/imageio_plugin.py\", line 6, in <module>\n",
      "    from imageio.v3 import imread as imageio_imread, imwrite as imsave\n",
      "  File \"/home/vruiz/envs/SM/lib/python3.12/site-packages/imageio/__init__.py\", line 24, in <module>\n",
      "    from .core import FormatManager, RETURN_BYTES\n",
      "  File \"/home/vruiz/envs/SM/lib/python3.12/site-packages/imageio/core/__init__.py\", line 15, in <module>\n",
      "    from .request import Request, read_n_bytes, RETURN_BYTES\n",
      "  File \"/home/vruiz/envs/SM/lib/python3.12/site-packages/imageio/core/request.py\", line 11, in <module>\n",
      "    import zipfile\n",
      "  File \"/home/vruiz/miniconda3/lib/python3.12/zipfile/__init__.py\", line 19, in <module>\n",
      "    crc32 = zlib.crc32\n",
      "            ^^^^^^^^^^\n",
      "AttributeError: partially initialized module 'zlib' has no attribute 'crc32' (most likely due to a circular import)\n"
     ]
    }
   ],
   "source": [
    "!python ../src/Huffman.py encode -h"
   ]
  },
  {
   "cell_type": "code",
   "execution_count": null,
   "id": "ee8e6818-eda2-4f3e-a3d2-56c25e4886a1",
   "metadata": {},
   "outputs": [],
   "source": [
    "!python ../src/Huffman.py encode"
   ]
  },
  {
   "cell_type": "code",
   "execution_count": null,
   "id": "a42485ad-beff-4ae7-bbe2-2f70fd4fa758",
   "metadata": {},
   "outputs": [],
   "source": [
    "!python ../src/Huffman.py decode"
   ]
  },
  {
   "cell_type": "code",
   "execution_count": null,
   "id": "6a0c815c-386d-4bad-b37d-bb6c58f88fdd",
   "metadata": {},
   "outputs": [],
   "source": [
    "from IPython.display import Image, display"
   ]
  },
  {
   "cell_type": "code",
   "execution_count": null,
   "id": "c0e94419-2898-437b-92ad-de9846f16710",
   "metadata": {},
   "outputs": [],
   "source": [
    "display(Image(filename=\"/tmp/decoded.png\"))"
   ]
  }
 ],
 "metadata": {
  "kernelspec": {
   "display_name": "Python 3 (ipykernel)",
   "language": "python",
   "name": "python3"
  },
  "language_info": {
   "codemirror_mode": {
    "name": "ipython",
    "version": 3
   },
   "file_extension": ".py",
   "mimetype": "text/x-python",
   "name": "python",
   "nbconvert_exporter": "python",
   "pygments_lexer": "ipython3",
   "version": "3.12.2"
  }
 },
 "nbformat": 4,
 "nbformat_minor": 5
}
