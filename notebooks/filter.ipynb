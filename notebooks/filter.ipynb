{
 "cells": [
  {
   "cell_type": "markdown",
   "id": "fd58efe9-d816-4559-bdd1-f76fdcfc100d",
   "metadata": {},
   "source": [
    "## Filtering in VCF"
   ]
  },
  {
   "cell_type": "code",
   "execution_count": null,
   "id": "0ff81bea-cf87-4bf8-85af-ee996e45a8a8",
   "metadata": {},
   "outputs": [],
   "source": [
    "from IPython.display import Image, display"
   ]
  },
  {
   "cell_type": "code",
   "execution_count": null,
   "id": "2cd830c8-ee52-4432-9c00-b91ccec6cccb",
   "metadata": {},
   "outputs": [],
   "source": [
    "#!pip install -r ../requirements.txt"
   ]
  },
  {
   "cell_type": "markdown",
   "id": "196f16f3-3831-48d0-9833-dbe9a5bcd361",
   "metadata": {},
   "source": [
    "### Encoding help"
   ]
  },
  {
   "cell_type": "code",
   "execution_count": null,
   "id": "976d4c1c-efd2-48d6-a97a-aa7dfa481634",
   "metadata": {},
   "outputs": [],
   "source": [
    "!python ../src/blur.py encode -h"
   ]
  },
  {
   "cell_type": "markdown",
   "id": "2ce8488a-a8bf-41ed-94f7-ba5c51260f3c",
   "metadata": {},
   "source": [
    "### Decoding"
   ]
  },
  {
   "cell_type": "code",
   "execution_count": null,
   "id": "ec6e4287-4a55-41a5-9e6b-80aa4b656bbb",
   "metadata": {},
   "outputs": [],
   "source": [
    "!python ../src/blur.py encode -i http://www.hpca.ual.es/~vruiz/images/Homer.png "
   ]
  },
  {
   "cell_type": "code",
   "execution_count": null,
   "id": "a42485ad-beff-4ae7-bbe2-2f70fd4fa758",
   "metadata": {},
   "outputs": [],
   "source": [
    "!python ../src/blur.py decode -f gaussian -s 11"
   ]
  },
  {
   "cell_type": "code",
   "execution_count": null,
   "id": "c0e94419-2898-437b-92ad-de9846f16710",
   "metadata": {},
   "outputs": [],
   "source": [
    "display(Image(filename=\"/tmp/original.png\"))\n",
    "display(Image(filename=\"/tmp/decoded.png\"))"
   ]
  },
  {
   "cell_type": "code",
   "execution_count": null,
   "id": "e73238be-e066-49a9-939b-a8a1e48aa29d",
   "metadata": {},
   "outputs": [],
   "source": []
  }
 ],
 "metadata": {
  "kernelspec": {
   "display_name": "Python 3 (ipykernel)",
   "language": "python",
   "name": "python3"
  },
  "language_info": {
   "codemirror_mode": {
    "name": "ipython",
    "version": 3
   },
   "file_extension": ".py",
   "mimetype": "text/x-python",
   "name": "python",
   "nbconvert_exporter": "python",
   "pygments_lexer": "ipython3",
   "version": "3.12.2"
  }
 },
 "nbformat": 4,
 "nbformat_minor": 5
}
